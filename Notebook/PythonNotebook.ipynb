{
 "cells": [
  {
   "cell_type": "code",
   "execution_count": null,
   "metadata": {},
   "outputs": [],
   "source": [
    "# Only load the core clr once\n",
    "if ('hasInitialized' not in locals()):\n",
    "    from pythonnet import load\n",
    "    load(\"coreclr\")\n",
    "    hasInitialized = True\n",
    "import sys\n",
    "import os\n",
    "import platform\n",
    "sys.path.append(os.path.abspath(r\"../Widget/bin/Debug/net6.0\"))\n",
    "\n",
    "import clr\n",
    "clr.AddReference(\"Widget\")\n",
    "\n",
    "from Widget import Robot\n",
    "\n",
    "print(os.name)\n",
    "print(platform.system())\n",
    "print(platform.release())\n",
    "\n",
    "robot = Robot()\n",
    "eventLog = robot.CreateEventLog()"
   ]
  }
 ],
 "metadata": {
  "kernelspec": {
   "display_name": "venv",
   "language": "python",
   "name": "python3"
  },
  "language_info": {
   "codemirror_mode": {
    "name": "ipython",
    "version": 3
   },
   "file_extension": ".py",
   "mimetype": "text/x-python",
   "name": "python",
   "nbconvert_exporter": "python",
   "pygments_lexer": "ipython3",
   "version": "3.10.8"
  },
  "orig_nbformat": 4,
  "vscode": {
   "interpreter": {
    "hash": "374af2ac4e515568c59e247444b96df802e7c066db0db9b0de330340083c9259"
   }
  }
 },
 "nbformat": 4,
 "nbformat_minor": 2
}
